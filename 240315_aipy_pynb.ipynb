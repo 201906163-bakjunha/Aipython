{
  "nbformat": 4,
  "nbformat_minor": 0,
  "metadata": {
    "colab": {
      "provenance": []
    },
    "kernelspec": {
      "name": "python3",
      "display_name": "Python 3"
    },
    "language_info": {
      "name": "python"
    }
  },
  "cells": [
    {
      "cell_type": "markdown",
      "source": [
        "#두 수를 입력받아 합을 풀력하는 프로그램"
      ],
      "metadata": {
        "id": "jZg-DbCm_01Q"
      }
    },
    {
      "cell_type": "code",
      "execution_count": 1,
      "metadata": {
        "colab": {
          "base_uri": "https://localhost:8080/"
        },
        "id": "8Fhvffd9_F-V",
        "outputId": "89732521-68b9-42d0-847b-602a8c9153b6"
      },
      "outputs": [
        {
          "output_type": "stream",
          "name": "stdout",
          "text": [
            "1 2\n",
            "3\n"
          ]
        }
      ],
      "source": [
        "# 두 정수를 입력받음\n",
        "A, B = map(int, input().split())\n",
        "\n",
        "# 입력받은 두 정수의 합을 계산\n",
        "result = A + B\n",
        "\n",
        "# 결과 출력\n",
        "print(result)\n"
      ]
    },
    {
      "cell_type": "code",
      "source": [
        "print('Hello Python')"
      ],
      "metadata": {
        "colab": {
          "base_uri": "https://localhost:8080/"
        },
        "id": "QhQfRHmY_eZY",
        "outputId": "701fb0bb-c11f-4205-8de7-06794752845e"
      },
      "execution_count": 2,
      "outputs": [
        {
          "output_type": "stream",
          "name": "stdout",
          "text": [
            "Hello Python\n"
          ]
        }
      ]
    },
    {
      "cell_type": "code",
      "source": [],
      "metadata": {
        "id": "6PnqYQHs_tGX"
      },
      "execution_count": null,
      "outputs": []
    }
  ]
}