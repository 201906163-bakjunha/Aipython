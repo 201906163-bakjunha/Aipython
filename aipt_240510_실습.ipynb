{
  "nbformat": 4,
  "nbformat_minor": 0,
  "metadata": {
    "colab": {
      "provenance": [],
      "authorship_tag": "ABX9TyNkq8ZaUakYPQ158U457+y+",
      "include_colab_link": true
    },
    "kernelspec": {
      "name": "python3",
      "display_name": "Python 3"
    },
    "language_info": {
      "name": "python"
    }
  },
  "cells": [
    {
      "cell_type": "markdown",
      "metadata": {
        "id": "view-in-github",
        "colab_type": "text"
      },
      "source": [
        "<a href=\"https://colab.research.google.com/github/201906163-bakjunha/Aipython/blob/main/aipt_240510_%EC%8B%A4%EC%8A%B5.ipynb\" target=\"_parent\"><img src=\"https://colab.research.google.com/assets/colab-badge.svg\" alt=\"Open In Colab\"/></a>"
      ]
    },
    {
      "cell_type": "code",
      "source": [
        "\n",
        "import pandas as pd\n",
        "col=['학생', '수학', '영어' , '과학']\n",
        "df= pd.DataFrame([['john', 90, 85, 88],['Alice', 87, 91, 89],['Bob', 70, 80, 85],['Emily', 92, 88, 82]], columns=['학생', '수학', '영어' , '과학'])\n",
        "df\n",
        "#문1. 데이터 함수를 이용하여 데이터 프레임을 생성하시오(pd.DataFrame)\n",
        "df= pd.DataFrame([['john', 90, 85, 88],['Alice', 87, 91, 89],['Bob', 70, 80, 85],['Emily', 92, 88, 82]], columns=['학생', '수학', '영어' , '과학'])\n",
        "df\n",
        "#문2. 생성한 데이터 프레임의 요약 통계 정보를 출력하시오(pd.describe)\n",
        "df.describe()\n",
        "#문3. 생성한 데이터 프레잉에서 수학 점수가 가장 높은 학생의 정보를 출력하시오(max())\n",
        "df['수학'].max()\n",
        "#문4. 생성한 데이터 프레임에서 수학 점수가 90점 이상인 학생의 정보를 출력하시오(조건연산자)\n",
        "df[df['수학']>90]"
      ],
      "metadata": {
        "colab": {
          "base_uri": "https://localhost:8080/",
          "height": 81
        },
        "id": "1rBTH0mfdkOh",
        "outputId": "42c6dabc-0bf8-4de2-eec1-64826e0210f3"
      },
      "execution_count": null,
      "outputs": [
        {
          "output_type": "execute_result",
          "data": {
            "text/plain": [
              "      학생  수학  영어  과학\n",
              "3  Emily  92  88  82"
            ],
            "text/html": [
              "\n",
              "  <div id=\"df-90c95ac8-8d0c-414e-b968-115e313735d2\" class=\"colab-df-container\">\n",
              "    <div>\n",
              "<style scoped>\n",
              "    .dataframe tbody tr th:only-of-type {\n",
              "        vertical-align: middle;\n",
              "    }\n",
              "\n",
              "    .dataframe tbody tr th {\n",
              "        vertical-align: top;\n",
              "    }\n",
              "\n",
              "    .dataframe thead th {\n",
              "        text-align: right;\n",
              "    }\n",
              "</style>\n",
              "<table border=\"1\" class=\"dataframe\">\n",
              "  <thead>\n",
              "    <tr style=\"text-align: right;\">\n",
              "      <th></th>\n",
              "      <th>학생</th>\n",
              "      <th>수학</th>\n",
              "      <th>영어</th>\n",
              "      <th>과학</th>\n",
              "    </tr>\n",
              "  </thead>\n",
              "  <tbody>\n",
              "    <tr>\n",
              "      <th>3</th>\n",
              "      <td>Emily</td>\n",
              "      <td>92</td>\n",
              "      <td>88</td>\n",
              "      <td>82</td>\n",
              "    </tr>\n",
              "  </tbody>\n",
              "</table>\n",
              "</div>\n",
              "    <div class=\"colab-df-buttons\">\n",
              "\n",
              "  <div class=\"colab-df-container\">\n",
              "    <button class=\"colab-df-convert\" onclick=\"convertToInteractive('df-90c95ac8-8d0c-414e-b968-115e313735d2')\"\n",
              "            title=\"Convert this dataframe to an interactive table.\"\n",
              "            style=\"display:none;\">\n",
              "\n",
              "  <svg xmlns=\"http://www.w3.org/2000/svg\" height=\"24px\" viewBox=\"0 -960 960 960\">\n",
              "    <path d=\"M120-120v-720h720v720H120Zm60-500h600v-160H180v160Zm220 220h160v-160H400v160Zm0 220h160v-160H400v160ZM180-400h160v-160H180v160Zm440 0h160v-160H620v160ZM180-180h160v-160H180v160Zm440 0h160v-160H620v160Z\"/>\n",
              "  </svg>\n",
              "    </button>\n",
              "\n",
              "  <style>\n",
              "    .colab-df-container {\n",
              "      display:flex;\n",
              "      gap: 12px;\n",
              "    }\n",
              "\n",
              "    .colab-df-convert {\n",
              "      background-color: #E8F0FE;\n",
              "      border: none;\n",
              "      border-radius: 50%;\n",
              "      cursor: pointer;\n",
              "      display: none;\n",
              "      fill: #1967D2;\n",
              "      height: 32px;\n",
              "      padding: 0 0 0 0;\n",
              "      width: 32px;\n",
              "    }\n",
              "\n",
              "    .colab-df-convert:hover {\n",
              "      background-color: #E2EBFA;\n",
              "      box-shadow: 0px 1px 2px rgba(60, 64, 67, 0.3), 0px 1px 3px 1px rgba(60, 64, 67, 0.15);\n",
              "      fill: #174EA6;\n",
              "    }\n",
              "\n",
              "    .colab-df-buttons div {\n",
              "      margin-bottom: 4px;\n",
              "    }\n",
              "\n",
              "    [theme=dark] .colab-df-convert {\n",
              "      background-color: #3B4455;\n",
              "      fill: #D2E3FC;\n",
              "    }\n",
              "\n",
              "    [theme=dark] .colab-df-convert:hover {\n",
              "      background-color: #434B5C;\n",
              "      box-shadow: 0px 1px 3px 1px rgba(0, 0, 0, 0.15);\n",
              "      filter: drop-shadow(0px 1px 2px rgba(0, 0, 0, 0.3));\n",
              "      fill: #FFFFFF;\n",
              "    }\n",
              "  </style>\n",
              "\n",
              "    <script>\n",
              "      const buttonEl =\n",
              "        document.querySelector('#df-90c95ac8-8d0c-414e-b968-115e313735d2 button.colab-df-convert');\n",
              "      buttonEl.style.display =\n",
              "        google.colab.kernel.accessAllowed ? 'block' : 'none';\n",
              "\n",
              "      async function convertToInteractive(key) {\n",
              "        const element = document.querySelector('#df-90c95ac8-8d0c-414e-b968-115e313735d2');\n",
              "        const dataTable =\n",
              "          await google.colab.kernel.invokeFunction('convertToInteractive',\n",
              "                                                    [key], {});\n",
              "        if (!dataTable) return;\n",
              "\n",
              "        const docLinkHtml = 'Like what you see? Visit the ' +\n",
              "          '<a target=\"_blank\" href=https://colab.research.google.com/notebooks/data_table.ipynb>data table notebook</a>'\n",
              "          + ' to learn more about interactive tables.';\n",
              "        element.innerHTML = '';\n",
              "        dataTable['output_type'] = 'display_data';\n",
              "        await google.colab.output.renderOutput(dataTable, element);\n",
              "        const docLink = document.createElement('div');\n",
              "        docLink.innerHTML = docLinkHtml;\n",
              "        element.appendChild(docLink);\n",
              "      }\n",
              "    </script>\n",
              "  </div>\n",
              "\n",
              "    </div>\n",
              "  </div>\n"
            ],
            "application/vnd.google.colaboratory.intrinsic+json": {
              "type": "dataframe",
              "summary": "{\n  \"name\": \"df[df['\\uc218\\ud559']>90]\",\n  \"rows\": 1,\n  \"fields\": [\n    {\n      \"column\": \"\\ud559\\uc0dd\",\n      \"properties\": {\n        \"dtype\": \"string\",\n        \"num_unique_values\": 1,\n        \"samples\": [\n          \"Emily\"\n        ],\n        \"semantic_type\": \"\",\n        \"description\": \"\"\n      }\n    },\n    {\n      \"column\": \"\\uc218\\ud559\",\n      \"properties\": {\n        \"dtype\": \"number\",\n        \"std\": null,\n        \"min\": 92,\n        \"max\": 92,\n        \"num_unique_values\": 1,\n        \"samples\": [\n          92\n        ],\n        \"semantic_type\": \"\",\n        \"description\": \"\"\n      }\n    },\n    {\n      \"column\": \"\\uc601\\uc5b4\",\n      \"properties\": {\n        \"dtype\": \"number\",\n        \"std\": null,\n        \"min\": 88,\n        \"max\": 88,\n        \"num_unique_values\": 1,\n        \"samples\": [\n          88\n        ],\n        \"semantic_type\": \"\",\n        \"description\": \"\"\n      }\n    },\n    {\n      \"column\": \"\\uacfc\\ud559\",\n      \"properties\": {\n        \"dtype\": \"number\",\n        \"std\": null,\n        \"min\": 82,\n        \"max\": 82,\n        \"num_unique_values\": 1,\n        \"samples\": [\n          82\n        ],\n        \"semantic_type\": \"\",\n        \"description\": \"\"\n      }\n    }\n  ]\n}"
            }
          },
          "metadata": {},
          "execution_count": 94
        }
      ]
    },
    {
      "cell_type": "code",
      "source": [
        "#'boxoffice'파일을 데이터프레임으로 생성하기]\n",
        "import pandas as pd\n",
        "#문1.데이터프레임을 생성한 후 데이터프레임의 정보를 출력하시오(info())\n",
        "df=pd.read_excel('/content/drive/MyDrive/실습/BoxOffice.xlsx')\n",
        "df.info()\n",
        "#문2. 대표국적별 영화 판수를 집계하시오 value_counts()\n",
        "print(df['대표국적'].value_counts())\n",
        "#문3 대표국적이 영국인 데이터를 출력하시오 조건식\n",
        "print(df[df['대표국적']=='영국'])\n",
        "#문4 대표국적별 최상위 순위를 출력하시오 min\n",
        "print(df.groupby('대표국적')['순위'].min())"
      ],
      "metadata": {
        "colab": {
          "base_uri": "https://localhost:8080/"
        },
        "id": "V0HLhndxhxGh",
        "outputId": "73396d01-d898-4509-c0b7-859e3bb54056"
      },
      "execution_count": null,
      "outputs": [
        {
          "output_type": "stream",
          "name": "stdout",
          "text": [
            "<class 'pandas.core.frame.DataFrame'>\n",
            "RangeIndex: 200 entries, 0 to 199\n",
            "Data columns (total 10 columns):\n",
            " #   Column  Non-Null Count  Dtype         \n",
            "---  ------  --------------  -----         \n",
            " 0   순위      200 non-null    int64         \n",
            " 1   영화명     200 non-null    object        \n",
            " 2   개봉일     200 non-null    datetime64[ns]\n",
            " 3   매출액     200 non-null    int64         \n",
            " 4   관객수     200 non-null    int64         \n",
            " 5   스크린수    200 non-null    int64         \n",
            " 6   상영횟수    200 non-null    int64         \n",
            " 7   대표국적    200 non-null    object        \n",
            " 8   국적      200 non-null    object        \n",
            " 9   배급사     200 non-null    object        \n",
            "dtypes: datetime64[ns](1), int64(5), object(4)\n",
            "memory usage: 15.8+ KB\n",
            "대표국적\n",
            "한국    116\n",
            "미국     82\n",
            "일본      1\n",
            "영국      1\n",
            "Name: count, dtype: int64\n",
            "      순위     영화명        개봉일          매출액      관객수  스크린수   상영횟수 대표국적  국적  \\\n",
            "194  195  어바웃 타임 2013-12-05  25312684300  3449451   568  67267   영국  영국   \n",
            "\n",
            "                     배급사  \n",
            "194  유니버설픽쳐스인터내셔널 코리아(유)  \n",
            "<bound method GroupBy.min of <pandas.core.groupby.generic.DataFrameGroupBy object at 0x7b01ce5cf6d0>>\n"
          ]
        }
      ]
    }
  ]
}