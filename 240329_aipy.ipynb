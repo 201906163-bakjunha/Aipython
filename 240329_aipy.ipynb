{
  "nbformat": 4,
  "nbformat_minor": 0,
  "metadata": {
    "colab": {
      "provenance": [],
      "authorship_tag": "ABX9TyO4kU9/vSMN2n9RPk7t2lI4",
      "include_colab_link": true
    },
    "kernelspec": {
      "name": "python3",
      "display_name": "Python 3"
    },
    "language_info": {
      "name": "python"
    }
  },
  "cells": [
    {
      "cell_type": "markdown",
      "metadata": {
        "id": "view-in-github",
        "colab_type": "text"
      },
      "source": [
        "<a href=\"https://colab.research.google.com/github/201906163-bakjunha/Aipython/blob/main/240329_aipy.ipynb\" target=\"_parent\"><img src=\"https://colab.research.google.com/assets/colab-badge.svg\" alt=\"Open In Colab\"/></a>"
      ]
    },
    {
      "cell_type": "code",
      "source": [
        "mit=int(input('분을 입력받아서 시간과 분을 출력하시오'))\n",
        "print(mit,'->',mit//60,'시간', mit%60, '분')#.format 사용 시 쉼표, 따움표 절약"
      ],
      "metadata": {
        "colab": {
          "base_uri": "https://localhost:8080/"
        },
        "id": "g-scV77QBRum",
        "outputId": "68c7b497-5c36-45f4-b3ca-e6957506baff"
      },
      "execution_count": null,
      "outputs": [
        {
          "output_type": "stream",
          "name": "stdout",
          "text": [
            "분을 입력받아서 시간과 분을 출력하시오100\n",
            "100 -> 1 시간 40 분\n"
          ]
        }
      ]
    },
    {
      "cell_type": "code",
      "source": [
        "c=int(input('섭씨온도를 입력받아 화씨온도를 출력하시오'))\n",
        "fd=c*1.8+32\n",
        "print('섭씨', c,'도는 화씨 %5.1f도입니다.' %fd)"
      ],
      "metadata": {
        "colab": {
          "base_uri": "https://localhost:8080/"
        },
        "id": "9o8Ytuv0DHZ8",
        "outputId": "6c28115c-4d19-476a-d60c-51e69fcca79b"
      },
      "execution_count": null,
      "outputs": [
        {
          "output_type": "stream",
          "name": "stdout",
          "text": [
            "섭씨온도를 입력받아 화씨온도를 출력하시오100\n",
            "섭씨 100 도는 화씨 212.0도입니다.\n"
          ]
        }
      ]
    },
    {
      "cell_type": "code",
      "source": [
        "Pi=3.14 #할당 시 상수는 대문자\n",
        "r=int(input('원의 반지름을 입력하시오.'))\n",
        "s=r**2*3.14\n",
        "print('반지름이',r,'인 원의 둘레는',r*6.24,'이고, 면적은',\"%5.1f\"%s,'입니다.')\n",
        "\n"
      ],
      "metadata": {
        "colab": {
          "base_uri": "https://localhost:8080/"
        },
        "id": "piWKBkDNEgac",
        "outputId": "76751078-ce78-4f03-956a-3f86fcc06321"
      },
      "execution_count": null,
      "outputs": [
        {
          "output_type": "stream",
          "name": "stdout",
          "text": [
            "원의 반지름을 입력하시오.100\n",
            "반지름이 100 인 원의 둘레는 624.0 이고, 면적은 31400.0 입니다.\n"
          ]
        }
      ]
    }
  ]
}