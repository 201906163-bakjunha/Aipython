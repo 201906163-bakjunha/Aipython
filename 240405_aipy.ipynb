{
  "nbformat": 4,
  "nbformat_minor": 0,
  "metadata": {
    "colab": {
      "provenance": [],
      "authorship_tag": "ABX9TyNdCEmaecTbSSYtdGztYfMx",
      "include_colab_link": true
    },
    "kernelspec": {
      "name": "python3",
      "display_name": "Python 3"
    },
    "language_info": {
      "name": "python"
    }
  },
  "cells": [
    {
      "cell_type": "markdown",
      "metadata": {
        "id": "view-in-github",
        "colab_type": "text"
      },
      "source": [
        "<a href=\"https://colab.research.google.com/github/201906163-bakjunha/Aipython/blob/main/240405_aipy.ipynb\" target=\"_parent\"><img src=\"https://colab.research.google.com/assets/colab-badge.svg\" alt=\"Open In Colab\"/></a>"
      ]
    },
    {
      "cell_type": "code",
      "execution_count": null,
      "metadata": {
        "colab": {
          "base_uri": "https://localhost:8080/"
        },
        "id": "MKMXd3Ox3lGr",
        "outputId": "0b0d1c67-c6e6-4550-977d-5ec07246091c"
      },
      "outputs": [
        {
          "output_type": "stream",
          "name": "stdout",
          "text": [
            "a는 5보다 크다\n",
            "프로그램 종료\n"
          ]
        }
      ],
      "source": [
        "a=10\n",
        "if a>5:\n",
        "  print('a는 5보다 크다')\n",
        "  print('프로그램 종료')"
      ]
    },
    {
      "cell_type": "code",
      "source": [],
      "metadata": {
        "id": "LAt88fDtOf4u"
      },
      "execution_count": null,
      "outputs": []
    },
    {
      "cell_type": "code",
      "source": [
        "a=10\n",
        "if a>5:\n",
        "  print('a는 5보다 크다')\n",
        "elif a<=5:\n",
        "  print('a는 5 이하입니다')"
      ],
      "metadata": {
        "colab": {
          "base_uri": "https://localhost:8080/"
        },
        "id": "kz2R_uJm5IJC",
        "outputId": "1af7390a-d3c3-4ba0-91c4-821906e08e5f"
      },
      "execution_count": null,
      "outputs": [
        {
          "output_type": "stream",
          "name": "stdout",
          "text": [
            "a는 5보다 크다\n",
            "프로그램 종료\n"
          ]
        }
      ]
    },
    {
      "cell_type": "code",
      "source": [
        "#a의 할당된 값의 짝수/홀수 여부를 알려주는 프로그햄\n",
        "a=input()\n",
        "a=int(a)%2\n",
        "if a==0:     #a%2==0\n",
        "  print('a는 짝수입니다')\n",
        "elif a!=0:\n",
        "  print('a는 혹수입니다')"
      ],
      "metadata": {
        "colab": {
          "base_uri": "https://localhost:8080/"
        },
        "id": "LgT1wEEc5lBK",
        "outputId": "ac502407-34a2-4213-b088-1e663a62cdc8"
      },
      "execution_count": null,
      "outputs": [
        {
          "output_type": "stream",
          "name": "stdout",
          "text": [
            "10\n",
            "a는 짝수입니다\n"
          ]
        }
      ]
    },
    {
      "cell_type": "code",
      "source": [
        "a=4\n",
        "if a>5:\n",
        "  print('a는 5보다 크다')\n",
        "elif a<5:\n",
        "  print('a는 5 이하입니다')\n",
        "else:\n",
        "  print('a는 5이다')"
      ],
      "metadata": {
        "colab": {
          "base_uri": "https://localhost:8080/"
        },
        "id": "_r6PH64E7BaK",
        "outputId": "d7005db5-d435-47ee-c965-f97924ed7862"
      },
      "execution_count": null,
      "outputs": [
        {
          "output_type": "stream",
          "name": "stdout",
          "text": [
            "a는 5 이하입니다\n"
          ]
        }
      ]
    },
    {
      "cell_type": "code",
      "source": [
        " a=10\n",
        " b=5\n",
        " if a>5:\n",
        "  if b<10:\n",
        "    print('a는 5보다 크고 b는 10보다 작다')"
      ],
      "metadata": {
        "colab": {
          "base_uri": "https://localhost:8080/"
        },
        "id": "L96afrIR9CAc",
        "outputId": "e32fa81b-5372-45bd-8c61-0f9b2edddab5"
      },
      "execution_count": null,
      "outputs": [
        {
          "output_type": "stream",
          "name": "stdout",
          "text": [
            "a는 5보다 크고 b는 10보다 작다\n"
          ]
        }
      ]
    },
    {
      "cell_type": "code",
      "source": [
        "a=10\n",
        "b=5\n",
        "if a>5 and b<10:\n",
        "  print('a는 5보다 크고, b는 10보다 작다')"
      ],
      "metadata": {
        "colab": {
          "base_uri": "https://localhost:8080/"
        },
        "id": "yymfYVUk9a1L",
        "outputId": "aaa17fa1-4786-41e2-9b7a-9f390cc0298e"
      },
      "execution_count": null,
      "outputs": [
        {
          "output_type": "stream",
          "name": "stdout",
          "text": [
            "a는 5보다 크고, b는 10보다 작다\n"
          ]
        }
      ]
    },
    {
      "cell_type": "code",
      "source": [
        "'''0~100의 점수를 입력받아서\n",
        "90점 이상 A\n",
        "80점 이상 B\n",
        "70점 이상 C\n",
        "60점 이상 D\n",
        "그외 F'''\n",
        "\n",
        "sco=float(input('점수를 입력하시오'))\n",
        "if sco>=90:\n",
        "  print(\"A\")\n",
        "elif sco>=80:\n",
        "  print('B')\n",
        "elif sco>=70:\n",
        "  print('C')\n",
        "elif sco>=60:\n",
        "  print('D')\n",
        "else:\n",
        "  print('F') #grade=\n",
        "#print(grade)"
      ],
      "metadata": {
        "colab": {
          "base_uri": "https://localhost:8080/"
        },
        "id": "5VpKQec390bm",
        "outputId": "4a0a9dcc-f1f1-4526-bcf4-99734412ca2a"
      },
      "execution_count": null,
      "outputs": [
        {
          "output_type": "stream",
          "name": "stdout",
          "text": [
            "점수를 입력하시오99\n",
            "A\n"
          ]
        }
      ]
    },
    {
      "cell_type": "code",
      "source": [
        "a = [1, 2, 3, 4, 5]\n",
        "\n",
        "for i in a:\n",
        "  print(i, end=' ')"
      ],
      "metadata": {
        "colab": {
          "base_uri": "https://localhost:8080/"
        },
        "id": "A00GwV3FE6gF",
        "outputId": "45e478db-866c-4be7-f8e1-9d7269f4bda2"
      },
      "execution_count": null,
      "outputs": [
        {
          "output_type": "stream",
          "name": "stdout",
          "text": [
            "1 2 3 4 5 "
          ]
        }
      ]
    },
    {
      "cell_type": "code",
      "source": [
        "a = [1, 2, 3, 4, 5]\n",
        "b = ()\n",
        "for i in a:\n",
        "  b += i\n",
        "print(b)"
      ],
      "metadata": {
        "colab": {
          "base_uri": "https://localhost:8080/"
        },
        "id": "1E81KOz_FoPl",
        "outputId": "72674560-41a0-4a3d-94db-faba41949956"
      },
      "execution_count": null,
      "outputs": [
        {
          "output_type": "stream",
          "name": "stdout",
          "text": [
            "15\n"
          ]
        }
      ]
    },
    {
      "cell_type": "code",
      "source": [
        "for i in range(1, 11):\n",
        "  print(i, end=\" \")"
      ],
      "metadata": {
        "colab": {
          "base_uri": "https://localhost:8080/"
        },
        "id": "u_2roi2nHovP",
        "outputId": "bc96fcf0-70cd-4645-86b0-68e5ad7443b7"
      },
      "execution_count": null,
      "outputs": [
        {
          "output_type": "stream",
          "name": "stdout",
          "text": [
            "1 2 3 4 5 6 7 8 9 10 "
          ]
        }
      ]
    },
    {
      "cell_type": "code",
      "source": [
        "#1에서 100 사이의 홀수 출력\n",
        "for i in range(1, 101, 2):\n",
        "  print(i, end=' ')\n",
        "print('\\n')\n",
        "#1에서 100 사이의 짝수 출력\n",
        "for i in range(2, 101, 2):\n",
        "  print(i, end=' ')"
      ],
      "metadata": {
        "colab": {
          "base_uri": "https://localhost:8080/"
        },
        "id": "Sz_liIb9IMaW",
        "outputId": "473626d0-123c-411e-b53e-fabe92910045"
      },
      "execution_count": null,
      "outputs": [
        {
          "output_type": "stream",
          "name": "stdout",
          "text": [
            "1 3 5 7 9 11 13 15 17 19 21 23 25 27 29 31 33 35 37 39 41 43 45 47 49 51 53 55 57 59 61 63 65 67 69 71 73 75 77 79 81 83 85 87 89 91 93 95 97 99 \n",
            "\n",
            "2 4 6 8 10 12 14 16 18 20 22 24 26 28 30 32 34 36 38 40 42 44 46 48 50 52 54 56 58 60 62 64 66 68 70 72 74 76 78 80 82 84 86 88 90 92 94 96 98 100 "
          ]
        }
      ]
    },
    {
      "cell_type": "code",
      "source": [
        "#1에서 100 사이의 홀수 출력/continue 활용\n",
        "for i in range(1, 101):\n",
        "  if i%2==0:\n",
        "    continue\n",
        "  print(i, end=' ')"
      ],
      "metadata": {
        "colab": {
          "base_uri": "https://localhost:8080/"
        },
        "id": "076zKh6DJcQQ",
        "outputId": "9d3943a1-6f38-44ea-c339-8c1b6e16d958"
      },
      "execution_count": null,
      "outputs": [
        {
          "output_type": "stream",
          "name": "stdout",
          "text": [
            "1 3 5 7 9 11 13 15 17 19 21 23 25 27 29 31 33 35 37 39 41 43 45 47 49 51 53 55 57 59 61 63 65 67 69 71 73 75 77 79 81 83 85 87 89 91 93 95 97 99 "
          ]
        }
      ]
    },
    {
      "cell_type": "code",
      "source": [
        "for i in range(5):\n",
        " if i%2==1:\n",
        "  break\n",
        " print(i)"
      ],
      "metadata": {
        "colab": {
          "base_uri": "https://localhost:8080/"
        },
        "id": "jnKqMR3ZKLSI",
        "outputId": "98ee2be9-4738-4219-af2d-f5c28db51614"
      },
      "execution_count": null,
      "outputs": [
        {
          "output_type": "stream",
          "name": "stdout",
          "text": [
            "0\n"
          ]
        }
      ]
    },
    {
      "cell_type": "code",
      "source": [
        "even_tot = 0\n",
        "odd_tot = 0\n",
        "for i in range(101):\n",
        "  if i%2==1:\n",
        "    odd_tot+=i\n",
        "  else:\n",
        "    even_tot+=i\n",
        "\n",
        "print(odd_tot, even_tot)"
      ],
      "metadata": {
        "colab": {
          "base_uri": "https://localhost:8080/"
        },
        "id": "zB2EgOiqKxsF",
        "outputId": "137424a3-9d03-4cb1-a8f9-305640ccbaba"
      },
      "execution_count": null,
      "outputs": [
        {
          "output_type": "stream",
          "name": "stdout",
          "text": [
            "2500 2550\n"
          ]
        }
      ]
    },
    {
      "cell_type": "code",
      "source": [],
      "metadata": {
        "id": "QmierIODQMv9"
      },
      "execution_count": null,
      "outputs": []
    },
    {
      "cell_type": "code",
      "source": [
        "#n의 값 입력, 1~n까지 반복, 합 계산, 출력\n",
        "\n",
        "sum=0\n",
        "n = int(input('n (1 ≤ n ≤ 10,000)'))\n",
        "for a in range(n+1):\n",
        "  sum+=a\n",
        "print(sum)\n"
      ],
      "metadata": {
        "colab": {
          "base_uri": "https://localhost:8080/"
        },
        "id": "rtLd80XpOhmU",
        "outputId": "595b2b3b-b17b-4881-ff39-90ec9dc47a4b"
      },
      "execution_count": 48,
      "outputs": [
        {
          "output_type": "stream",
          "name": "stdout",
          "text": [
            "n (1 ≤ n ≤ 10,000)5\n",
            "15\n"
          ]
        }
      ]
    }
  ]
}