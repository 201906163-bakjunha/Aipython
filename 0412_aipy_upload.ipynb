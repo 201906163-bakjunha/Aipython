{
  "nbformat": 4,
  "nbformat_minor": 0,
  "metadata": {
    "colab": {
      "provenance": [],
      "authorship_tag": "ABX9TyPsFfr4Bqvwyz04bBT/I8uU",
      "include_colab_link": true
    },
    "kernelspec": {
      "name": "python3",
      "display_name": "Python 3"
    },
    "language_info": {
      "name": "python"
    }
  },
  "cells": [
    {
      "cell_type": "markdown",
      "metadata": {
        "id": "view-in-github",
        "colab_type": "text"
      },
      "source": [
        "<a href=\"https://colab.research.google.com/github/201906163-bakjunha/Aipython/blob/main/0412_aipy_upload.ipynb\" target=\"_parent\"><img src=\"https://colab.research.google.com/assets/colab-badge.svg\" alt=\"Open In Colab\"/></a>"
      ]
    },
    {
      "cell_type": "code",
      "source": [
        "def BMI(x, y):\n",
        "  return y/(x**2/10000)"
      ],
      "metadata": {
        "id": "0cC1xf8lPIiK"
      },
      "execution_count": 8,
      "outputs": []
    },
    {
      "cell_type": "code",
      "execution_count": 9,
      "metadata": {
        "colab": {
          "base_uri": "https://localhost:8080/"
        },
        "id": "-Mwz6uFbO7po",
        "outputId": "4cf76dfc-c601-47f3-e249-12b00acf1dc9"
      },
      "outputs": [
        {
          "output_type": "stream",
          "name": "stdout",
          "text": [
            "3157.8947368421054\n"
          ]
        }
      ],
      "source": [
        "결과=BMI(190, 60)\n",
        "print(결과)"
      ]
    }
  ]
}